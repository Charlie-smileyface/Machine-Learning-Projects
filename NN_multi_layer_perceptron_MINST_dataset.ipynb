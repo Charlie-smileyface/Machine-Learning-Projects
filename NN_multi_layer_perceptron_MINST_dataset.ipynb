{
 "cells": [
  {
   "cell_type": "markdown",
   "id": "65e57a8b",
   "metadata": {},
   "source": [
    "* * *\n",
    "<pre> NYU Paris            <i> Machine Learning - Summer 2023 </i></pre>\n",
    "* * *\n",
    "\n",
    "\n",
    "<h1 align=\"center\"> Lab: the multilayer perceptron </h1>\n",
    "\n",
    "<pre align=\"left\"> June 07th 2023               <i> Author: Guillaume Staerman </i></pre>\n",
    "* * *\n",
    "\n",
    "\n",
    "##### Goal:\n",
    "- Implement your Multilayer perceptron model"
   ]
  },
  {
   "cell_type": "markdown",
   "id": "5a657681",
   "metadata": {},
   "source": [
    "## Installing and importing Pytorch"
   ]
  },
  {
   "cell_type": "code",
   "execution_count": 1,
   "id": "6767c076",
   "metadata": {},
   "outputs": [
    {
     "name": "stdout",
     "output_type": "stream",
     "text": [
      "Requirement already satisfied: torch in c:\\users\\24991\\desktop\\machine learning\\.venv\\lib\\site-packages (2.7.1)\n",
      "Requirement already satisfied: torchvision in c:\\users\\24991\\desktop\\machine learning\\.venv\\lib\\site-packages (0.22.1)\n",
      "Requirement already satisfied: filelock in c:\\users\\24991\\desktop\\machine learning\\.venv\\lib\\site-packages (from torch) (3.18.0)\n",
      "Requirement already satisfied: typing-extensions>=4.10.0 in c:\\users\\24991\\desktop\\machine learning\\.venv\\lib\\site-packages (from torch) (4.13.2)\n",
      "Requirement already satisfied: sympy>=1.13.3 in c:\\users\\24991\\desktop\\machine learning\\.venv\\lib\\site-packages (from torch) (1.14.0)\n",
      "Requirement already satisfied: networkx in c:\\users\\24991\\desktop\\machine learning\\.venv\\lib\\site-packages (from torch) (3.5)\n",
      "Requirement already satisfied: jinja2 in c:\\users\\24991\\desktop\\machine learning\\.venv\\lib\\site-packages (from torch) (3.1.6)\n",
      "Requirement already satisfied: fsspec in c:\\users\\24991\\desktop\\machine learning\\.venv\\lib\\site-packages (from torch) (2025.5.1)\n",
      "Requirement already satisfied: numpy in c:\\users\\24991\\desktop\\machine learning\\.venv\\lib\\site-packages (from torchvision) (2.2.6)\n",
      "Requirement already satisfied: pillow!=8.3.*,>=5.3.0 in c:\\users\\24991\\desktop\\machine learning\\.venv\\lib\\site-packages (from torchvision) (11.2.1)\n",
      "Requirement already satisfied: mpmath<1.4,>=1.1.0 in c:\\users\\24991\\desktop\\machine learning\\.venv\\lib\\site-packages (from sympy>=1.13.3->torch) (1.3.0)\n",
      "Requirement already satisfied: MarkupSafe>=2.0 in c:\\users\\24991\\desktop\\machine learning\\.venv\\lib\\site-packages (from jinja2->torch) (3.0.2)\n",
      "Note: you may need to restart the kernel to use updated packages.\n"
     ]
    }
   ],
   "source": [
    "%pip install torch torchvision\n",
    "import torch\n",
    "from torchvision import datasets\n",
    "from torchvision.transforms import ToTensor\n",
    "\n",
    "\n",
    "# Versions of torch and torchvision have to be compatible.\n",
    "# check here: https://github.com/pytorch/pytorch/wiki/PyTorch-Versions"
   ]
  },
  {
   "cell_type": "code",
   "execution_count": 2,
   "id": "1aeedfa1",
   "metadata": {},
   "outputs": [],
   "source": [
    "import torchvision"
   ]
  },
  {
   "cell_type": "code",
   "execution_count": 3,
   "id": "db6d62e3",
   "metadata": {},
   "outputs": [
    {
     "name": "stdout",
     "output_type": "stream",
     "text": [
      "2.7.1+cpu\n",
      "0.22.1+cpu\n"
     ]
    }
   ],
   "source": [
    "print(torch.__version__)\n",
    "print(torchvision.__version__)"
   ]
  },
  {
   "cell_type": "markdown",
   "id": "99193052",
   "metadata": {},
   "source": [
    "### Loading and preparing the MNIST dataset"
   ]
  },
  {
   "cell_type": "code",
   "execution_count": null,
   "id": "0de880eb",
   "metadata": {},
   "outputs": [],
   "source": [
    "# Define training and testing data using the functions in the cell above. \n",
    "# 定义好的函数，自动下载MINIST数据集，并将其转换为Tensor格式。\n",
    "# MNIST数据集是手写数字识别数据集，包含60000个训练样本和10000个测试样本。\n",
    "# 使用ToTensor()转换数据集中的图像数据为Tensor (转化为张量) 格式，以便于PyTorch处理。\n",
    "train_data = datasets.MNIST(\n",
    "    root=\"data\",\n",
    "    train=True,\n",
    "    download=True,\n",
    "    transform=ToTensor()\n",
    ")\n",
    "\n",
    "test_data = datasets.MNIST(\n",
    "    root=\"data\",\n",
    "    train=False,\n",
    "    download=True,\n",
    "    transform=ToTensor()\n",
    ")"
   ]
  },
  {
   "cell_type": "markdown",
   "id": "75119177",
   "metadata": {},
   "source": [
    "## Question 1\n",
    "\n",
    "### Visualize some elements of the dataset:"
   ]
  },
  {
   "cell_type": "code",
   "execution_count": 5,
   "id": "a58802b5",
   "metadata": {},
   "outputs": [
    {
     "name": "stdout",
     "output_type": "stream",
     "text": [
      "torch.Size([60000, 28, 28])\n",
      "torch.Size([10000, 28, 28])\n"
     ]
    },
    {
     "data": {
      "image/png": "[encoded data removed]",
      "text/plain": [
       "<Figure size 800x800 with 16 Axes>"
      ]
     },
     "metadata": {},
     "output_type": "display_data"
    }
   ],
   "source": [
    "import matplotlib.pyplot as plt\n",
    "# Visualize some images of the MNIST dataset\n",
    "# Size of training data\n",
    "print(train_data.data.shape)\n",
    "\n",
    "# Size of testing data\n",
    "print(test_data.data.shape)\n",
    "\n",
    "# Create a mapping from label indices to label names\n",
    "labels_map = {\n",
    "    0: \"0\",\n",
    "    1: \"1\",\n",
    "    2: \"2\",\n",
    "    3: \"3\",\n",
    "    4: \"4\",\n",
    "    5: \"5\",\n",
    "    6: \"6\",\n",
    "    7: \"7\",\n",
    "    8: \"8\",\n",
    "    9: \"9\",\n",
    "}\n",
    "# 生成图片\n",
    "figure = plt.figure(figsize=(8, 8))\n",
    "cols, rows = 4, 4\n",
    "\n",
    "# Randomly select images from the training dataset\n",
    "for i in range(1, cols * rows + 1):\n",
    "    # 从 train_data 中随机选择一个样本\n",
    "    # Note: train_data is a Dataset object, so we can access its elements using indexing.\n",
    "    # The dataset returns a tuple (image, label) for each sample.\n",
    "    # We use torch.randint to generate a random index.\n",
    "    # size = (1,) 是为了生成一个数 and .item() 把它从张量转换为 Python 整数   \n",
    "    sample_idx = torch.randint(len(train_data), size=(1,)).item()\n",
    "    # 通过随机生成的 idx 获取图像和标签\n",
    "    img, label = train_data[sample_idx]\n",
    "\n",
    "    figure.add_subplot(rows, cols, i)\n",
    "    plt.title(labels_map[label])\n",
    "    plt.axis(\"off\")\n",
    "    plt.imshow(img.squeeze(), cmap=\"gray\")\n",
    "plt.show()"
   ]
  },
  {
   "cell_type": "code",
   "execution_count": 9,
   "id": "3c458a20",
   "metadata": {},
   "outputs": [
    {
     "data": {
      "text/plain": [
       "5"
      ]
     },
     "execution_count": 9,
     "metadata": {},
     "output_type": "execute_result"
    }
   ],
   "source": [
    "# target 是一个属性，也就是包含了所有标签的一个tensor\n",
    "train_data.targets\n",
    "\n",
    "# [0] 取出这个 tensor 的第一个元素，但还是一个tensor\n",
    "train_data.targets[0]\n",
    "\n",
    "# .item() 将这个 tensor 转换为 Python 的整数\n",
    "train_data.targets[0].item()"
   ]
  },
  {
   "cell_type": "markdown",
   "id": "0f2a9a20",
   "metadata": {},
   "source": [
    "## Question 2\n",
    "\n",
    "### Define a dataloader to construct a batch-wise iterator from your train/test data\n"
   ]
  },
  {
   "cell_type": "code",
   "execution_count": 11,
   "id": "de33cb41",
   "metadata": {},
   "outputs": [],
   "source": [
    "# data 用于批量加载数据，目的是把 dataset 分成小批量（batch），并在训练时自动迭代，这些批次，以便于训练和测试模型。\n",
    "from torch.utils.data import DataLoader\n",
    "\n",
    "BATCH_SIZE = 4\n",
    "# suffle=True 表示每次迭代时打乱数据的顺序\n",
    "trainloader = DataLoader(train_data, batch_size=BATCH_SIZE, shuffle=True)\n",
    "# testloader 用于测试数据集的加载，通常不需要打乱顺序，因为测试数据集的顺序不影响模型评估。\n",
    "testloader = DataLoader(test_data, batch_size=BATCH_SIZE, shuffle=True)"
   ]
  },
  {
   "cell_type": "markdown",
   "id": "f805dc4e",
   "metadata": {},
   "source": [
    "## Question 3\n",
    "\n",
    "### Design your own Neural Network"
   ]
  },
  {
   "cell_type": "code",
   "execution_count": 12,
   "id": "ee19c7e6",
   "metadata": {},
   "outputs": [],
   "source": [
    "# nn 是神经网络模块\n",
    "# F 是 PyTorch 的函数式接口，提供了许多常用的激活函数和损失函数等\n",
    "import torch.nn as nn\n",
    "import torch.nn.functional as F\n",
    "\n",
    "# 先定义input，hidden 和 output 的维度\n",
    "# number of features (len of X cols)，input 的维度\n",
    "input_dim = 28 * 28 # 代表有多少像素\n",
    "\n",
    "# number of neurons in the hidden layer (一个隐藏层里有多少个神经元，也就是这个隐藏层的维度)\n",
    "hidden_dim = 256\n",
    " \n",
    "# number of classes (unique of y) output 的维度\n",
    "output_dim = 10\n",
    "\n",
    "# 定义一个多层感知机（MLP）模型\n",
    "# 输入层 → 线性层1（Linear）→ 激活函数（ReLU）→ 线性层2 → 输出层！！！\n",
    "class MLP(nn.Module):\n",
    "    def __init__(self):\n",
    "        # super() 函数在 Python 中的作用是：调用父类的方法。在 PyTorch 中，使用 super() 是定义神经网络类时的标准做法，尤其是在继承 nn.Module 的类中\n",
    "        super(MLP, self).__init__()\n",
    "\n",
    "        # 第一个全链接层，把 28*28 的 input 映射到 256 维的隐藏层\n",
    "        self.linear1 = nn.Linear(input_dim, hidden_dim) # linear() 函数实现了一个线性变换，y = Wx + b\n",
    "        # 第二个全链接层，把 256 维的隐藏层映射到 10 维的输出层\n",
    "        self.linear2 = nn.Linear(hidden_dim, output_dim)\n",
    "    \n",
    "    # forward 方法定义了向前传播过程\n",
    "    def forward(self, x):\n",
    "        # x 是输入数据，形状为 (batch_size, 1, 28, 28)\n",
    "        # 首先将输入数据展平为一维向量，形状变为 (batch_size, 28*28)\n",
    "        x = x.view(-1, input_dim) # 通过 view() 展平为对应 size，-1 表示自动计算 batch size\n",
    "\n",
    "        # 通过第一个线性层进行线性变换，需要调用 relu 这个 activation function\n",
    "        h_relu = F.relu(self.linear1(x)) # 放入 ReLU 函数的是通过线性变换的 input g(W1x + b1)\n",
    "        # 通过第二个线性层进行线性变换，得到输出\n",
    "        y_pred = self.linear2(h_relu)\n",
    "        \n",
    "        return y_pred"
   ]
  },
  {
   "cell_type": "markdown",
   "id": "fa46e6fb",
   "metadata": {},
   "source": [
    "## Question 4\n",
    "\n",
    "### Train your neural network on the trainloader"
   ]
  },
  {
   "cell_type": "code",
   "execution_count": 20,
   "id": "9549e4dd",
   "metadata": {},
   "outputs": [
    {
     "name": "stdout",
     "output_type": "stream",
     "text": [
      "<bound method Module.parameters of MLP(\n",
      "  (linear1): Linear(in_features=784, out_features=256, bias=True)\n",
      "  (linear2): Linear(in_features=256, out_features=10, bias=True)\n",
      ")>\n",
      "0 0 2.3706157207489014\n",
      "0 2000 2.236297607421875\n",
      "0 4000 2.1324565410614014\n",
      "0 6000 2.013789176940918\n",
      "0 8000 2.0789449214935303\n",
      "0 10000 1.8613252639770508\n",
      "0 12000 1.9076274633407593\n",
      "0 14000 1.943622350692749\n",
      "1 0 1.9023704528808594\n",
      "1 2000 1.8789924383163452\n",
      "1 4000 1.8898820877075195\n",
      "1 6000 1.8957710266113281\n",
      "1 8000 1.4519314765930176\n",
      "1 10000 1.8312351703643799\n",
      "1 12000 1.8045127391815186\n",
      "1 14000 1.775963544845581\n"
     ]
    }
   ],
   "source": [
    "# 引入一些基本的 loss functions 和优化器\n",
    "from torch.nn.functional import nll_loss, cross_entropy\n",
    "import torch.optim as optim\n",
    "\n",
    "# 定义一个 MLP object, parameters() 是模型中所有可训练参数的集合，W 和 b\n",
    "mlp = MLP()\n",
    "print(mlp.parameters)\n",
    "\n",
    "# Optimizer\n",
    "epochs = 2 # 训练轮数是 2（即遍历整个训练集两次）\n",
    "\n",
    "learning_rate = 1e-6 # learning rate 是优化器的超参数，控制模型参数更新的步长，优化中最重要的步骤\n",
    "\n",
    "# Adam 是一种自适应学习率优化算法，参与优化的是所有参数，按照学习率更新参数\n",
    "optimizer = optim.Adam(mlp.parameters(), lr=learning_rate) \n",
    "\n",
    "# Choice of the loss （MLP中采用 cross_entropy loss）\n",
    "criterion = cross_entropy # nll_loss\n",
    "\n",
    "losses = []\n",
    "for t in range(epochs):\n",
    "    # enumerate(trainloader) 返回一个 iter，返回每个批次的索引和数据\n",
    "    for i, data in enumerate(trainloader): # 这里的索引 i 代表从第一个 batch， data 代表 (inputs, lables）\n",
    "        inputs, labels = data\n",
    "        \n",
    "        # set optimizer to zero grad to remove previous epoch gradients\n",
    "        optimizer.zero_grad() # 清空上一次的迭代梯度，避免梯度累加（因为这里是梯度下降的方法不要累加）\n",
    "        \n",
    "        # Evaluate the loss\n",
    "        outputs = mlp(inputs) # 计算出预测值\n",
    "       \n",
    "        # loss = nll_loss(outputs, labels)\n",
    "        loss = cross_entropy(outputs, labels) # 计算预测和实际之间的 cross entropy loss\n",
    "        \n",
    "        # backward propagation!!!! 根据当前loss自动计算 gredient\n",
    "        loss.backward() # 反向传播，计算梯度\n",
    "        \n",
    "        # One optimization step!!! optimizer.step() 更具上面 backward propagation计算的梯度来更新参数\n",
    "        optimizer.step()\n",
    "\n",
    "        # 将 loss 添加到 losses 列表中\n",
    "        losses.append(loss.item())\n",
    "        \n",
    "        # 每 2000 次迭代打印一次当前的 epoch(轮次）、batch（批次） 和 当前loss\n",
    "        if not i % 2000:\n",
    "            print(t, i, loss.item())\n"
   ]
  },
  {
   "cell_type": "markdown",
   "id": "62787efd",
   "metadata": {},
   "source": [
    "## Question 5\n",
    "\n",
    "### Inspect the optimization procedure through the loss (plot the loss), what do you observe?"
   ]
  },
  {
   "cell_type": "code",
   "execution_count": 18,
   "id": "dd5615eb",
   "metadata": {},
   "outputs": [
    {
     "data": {
      "text/plain": [
       "'\\n震荡存在但合理, 你会看到蓝线有许多“锯齿状”的震荡，这是正常现象，原因是：\\n\\n训练是基于 每个 mini-batch 更新一次梯度，每个 batch 的数据不同 → 损失值也会有差异；\\n\\n学习率可能比较小,比如你前面用了 1e-6,导致震荡幅度不是特别剧烈\\n\\n如果震荡太大，可能需要：增大 batch size, 减小学习率, 添加平滑处理(如 moving average)\\n'"
      ]
     },
     "execution_count": 18,
     "metadata": {},
     "output_type": "execute_result"
    },
    {
     "data": {
      "image/png": "[encoded data removed]",
      "text/plain": [
       "<Figure size 640x480 with 1 Axes>"
      ]
     },
     "metadata": {},
     "output_type": "display_data"
    }
   ],
   "source": [
    "# 两个轮次的训练，发现每两千个批次的 loss 都在下降，说明模型在学习。\n",
    "# cross entropy loss 从 2.3 降到 1.36\n",
    "# 绘制损失曲线\n",
    "plt.plot(losses)\n",
    "plt.xlabel('Iteration')\n",
    "plt.ylabel('Loss')\n",
    "plt.title('Training Loss')\n",
    "\n",
    "\"\"\"\n",
    "震荡存在但合理, 你会看到蓝线有许多“锯齿状”的震荡，这是正常现象，原因是：\n",
    "\n",
    "训练是基于 每个 mini-batch 更新一次梯度，每个 batch 的数据不同 → 损失值也会有差异；\n",
    "\n",
    "学习率可能比较小,比如你前面用了 1e-6,导致震荡幅度不是特别剧烈\n",
    "\n",
    "如果震荡太大，可能需要：增大 batch size, 减小学习率, 添加平滑处理(如 moving average)\n",
    "\"\"\""
   ]
  },
  {
   "cell_type": "markdown",
   "id": "0e421890",
   "metadata": {},
   "source": [
    "## Question 6\n",
    "\n",
    "### Evaluate the quality of your classifier on the test set"
   ]
  },
  {
   "cell_type": "code",
   "execution_count": null,
   "id": "91eddf4d",
   "metadata": {},
   "outputs": [
    {
     "name": "stdout",
     "output_type": "stream",
     "text": [
      "tensor(0.7936)\n"
     ]
    }
   ],
   "source": [
    "# 取出测试集样本总数\n",
    "size_test = test_data.data.shape[0]\n",
    "\n",
    "correct = 0 # 用于记录预测正确的样本数\n",
    "\n",
    "for data in testloader:\n",
    "    inputs, labels = data\n",
    "    outputs = mlp(inputs)\n",
    "    loss = cross_entropy(outputs, labels)\n",
    "    # 获取每个样本的预测标签\n",
    "    # torch.max(outputs, 1) 返回一个元组，第一个元素是最大值，第二个元素是最大值的索引\n",
    "    _, predicted = torch.max(outputs, 1) # 取每个样本中最大值所在的位置（即最可能的类别), \n",
    "    # _,是一个占位符，表示我们不关心最大值本身，只关心索引\n",
    "\n",
    "    correct += (predicted == labels).sum()\n",
    "\n",
    "\n",
    "final_accuracy =  correct/size_test\n",
    "\n",
    "print(final_accuracy)"
   ]
  },
  {
   "cell_type": "markdown",
   "id": "308cf736",
   "metadata": {},
   "source": [
    "## Question 7 (Bonus)\n",
    "\n",
    "### Repeat this training with different loss (nll/cross_entropy...) and different number of epochs. What do you observe?"
   ]
  },
  {
   "cell_type": "code",
   "execution_count": null,
   "id": "6990dc64",
   "metadata": {},
   "outputs": [],
   "source": [
    "# change bach size \n",
    "# change learning rate\n",
    "# change loss function\n",
    "# change epochs\n",
    "# change hidden layer size\n",
    "# change optimizer"
   ]
  }
 ],
 "metadata": {
  "kernelspec": {
   "display_name": ".venv",
   "language": "python",
   "name": "python3"
  },
  "language_info": {
   "codemirror_mode": {
    "name": "ipython",
    "version": 3
   },
   "file_extension": ".py",
   "mimetype": "text/x-python",
   "name": "python",
   "nbconvert_exporter": "python",
   "pygments_lexer": "ipython3",
   "version": "3.11.9"
  }
 },
 "nbformat": 4,
 "nbformat_minor": 5
}
