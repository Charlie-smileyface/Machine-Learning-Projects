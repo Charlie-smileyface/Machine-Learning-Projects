{
 "cells": [
  {
   "cell_type": "markdown",
   "id": "e323bcec-3751-4dd6-b58f-b1c790473cfb",
   "metadata": {},
   "source": [
    "# Linear Regression\n",
    "Let us consider $n$ pairs $(x_i, y_i) \\in \\mathbb{R}^d \\times \\mathbb{R}$. Our goal is to find a good linear model corresponding to this dataset. A linear model is a predictor of the form $g_\\theta (x) = \\theta^\\top x$, where $\\theta \\in \\mathbb{R}^d$; it produces a value in $\\mathbb{R}$ and we quantify the prediction error using the square error: $\\ell(g_\\theta (x), y) = (\\theta^\\top x - y)^2$.\n",
    "\n",
    "Our problem can thus be summarized as follows:\n",
    "$$\n",
    "  \\min_{\\theta \\in \\mathbb{R}^d} \\frac{1}{2n} \\sum_{i = 1}^n  (\\theta^\\top x_i - y_i )^2 \n",
    "$$\n",
    "\n",
    "Let us first generate a dataset."
   ]
  },
  {
   "cell_type": "code",
   "execution_count": 9,
   "id": "0f0009b9-51eb-47bc-9387-54cb9b8341bb",
   "metadata": {},
   "outputs": [
    {
     "name": "stdout",
     "output_type": "stream",
     "text": [
      "Requirement already satisfied: pandas in c:\\users\\24991\\desktop\\machine learning\\.venv\\lib\\site-packages (2.2.3)\n",
      "Requirement already satisfied: matplotlib in c:\\users\\24991\\desktop\\machine learning\\.venv\\lib\\site-packages (3.10.3)\n",
      "Requirement already satisfied: seaborn in c:\\users\\24991\\desktop\\machine learning\\.venv\\lib\\site-packages (0.13.2)\n",
      "Requirement already satisfied: scipy in c:\\users\\24991\\desktop\\machine learning\\.venv\\lib\\site-packages (1.15.3)\n",
      "Requirement already satisfied: numpy>=1.23.2 in c:\\users\\24991\\desktop\\machine learning\\.venv\\lib\\site-packages (from pandas) (2.2.6)\n",
      "Requirement already satisfied: python-dateutil>=2.8.2 in c:\\users\\24991\\desktop\\machine learning\\.venv\\lib\\site-packages (from pandas) (2.9.0.post0)\n",
      "Requirement already satisfied: pytz>=2020.1 in c:\\users\\24991\\desktop\\machine learning\\.venv\\lib\\site-packages (from pandas) (2025.2)\n",
      "Requirement already satisfied: tzdata>=2022.7 in c:\\users\\24991\\desktop\\machine learning\\.venv\\lib\\site-packages (from pandas) (2025.2)\n",
      "Requirement already satisfied: contourpy>=1.0.1 in c:\\users\\24991\\desktop\\machine learning\\.venv\\lib\\site-packages (from matplotlib) (1.3.2)\n",
      "Requirement already satisfied: cycler>=0.10 in c:\\users\\24991\\desktop\\machine learning\\.venv\\lib\\site-packages (from matplotlib) (0.12.1)\n",
      "Requirement already satisfied: fonttools>=4.22.0 in c:\\users\\24991\\desktop\\machine learning\\.venv\\lib\\site-packages (from matplotlib) (4.58.0)\n",
      "Requirement already satisfied: kiwisolver>=1.3.1 in c:\\users\\24991\\desktop\\machine learning\\.venv\\lib\\site-packages (from matplotlib) (1.4.8)\n",
      "Requirement already satisfied: packaging>=20.0 in c:\\users\\24991\\desktop\\machine learning\\.venv\\lib\\site-packages (from matplotlib) (25.0)\n",
      "Requirement already satisfied: pillow>=8 in c:\\users\\24991\\desktop\\machine learning\\.venv\\lib\\site-packages (from matplotlib) (11.2.1)\n",
      "Requirement already satisfied: pyparsing>=2.3.1 in c:\\users\\24991\\desktop\\machine learning\\.venv\\lib\\site-packages (from matplotlib) (3.2.3)\n",
      "Requirement already satisfied: six>=1.5 in c:\\users\\24991\\desktop\\machine learning\\.venv\\lib\\site-packages (from python-dateutil>=2.8.2->pandas) (1.17.0)\n",
      "Note: you may need to restart the kernel to use updated packages.\n"
     ]
    }
   ],
   "source": [
    "%pip install pandas matplotlib seaborn scipy\n",
    "import numpy as np\n",
    "import matplotlib.pyplot as plt\n",
    "\n",
    "d = 10\n",
    "n = 1_000\n",
    "\n",
    "true_parameter = np.ones(d) # 生成一个 demension 为 d 的 array [1, 1, 1, ...]\n",
    "\n",
    "X = np.random.randn(n, d) # 生成一个 matirx X，每一行代表一个数据点(1000 row),每个数据点有 d 个 features\n",
    "y = X @ true_parameter + .2 * np.random.randn(n) # 矩阵乘法，x 是 n*d true_para 是 d*1"
   ]
  },
  {
   "cell_type": "markdown",
   "id": "18771387-4383-4dc9-9668-7f42f38ed34f",
   "metadata": {},
   "source": [
    "Here, we generated a batch of features $(x_1, \\ldots, x_n)$ from a Gaussian distribution. Then, we paired each $x_i$ to a value $y_i = x_i^\\top \\theta^\\star + \\varepsilon_i$, where $\\theta^\\star$ is the _true_ linear parameter and $\\varepsilon_i$ is some independent Gaussian noise."
   ]
  },
  {
   "cell_type": "markdown",
   "id": "b004367c-ed4d-4677-afa6-b0308557b535",
   "metadata": {},
   "source": [
    "### Question 1.\n",
    "Create a function `objective(theta, X, y)` that returns the average loss of the parameter $\\theta$ for the dataset `X, y` (i.e., the objective of the above minimization problem)."
   ]
  },
  {
   "cell_type": "code",
   "execution_count": 10,
   "id": "8e978750-e8f6-4f79-b524-3b50ab5a71d5",
   "metadata": {},
   "outputs": [],
   "source": [
    "def objective(theta, X, y):\n",
    "    prediction = X @ theta # g(x)\n",
    "    residuals = prediction - y # g(xi) - yi (残差)\n",
    "    avg_loss = (1/2)* np.mean(residuals**2) # 1/2 * avg([g(xi)-yi]^2)\n",
    "    return avg_loss"
   ]
  },
  {
   "cell_type": "markdown",
   "id": "2e2b495b-7465-4cbc-8974-664f17bcd8a5",
   "metadata": {},
   "source": [
    "### Question 2.\n",
    "**2.a.** Find the gradient $\\nabla f(\\theta)$ of $f(\\theta) = \\frac{1}{2n} \\sum_{i=1}^n (\\theta^\\top x_i - y_i)^2$.\n",
    "\n",
    "**2.b.** Implement it in the function `gradient(theta, X, y)` below."
   ]
  },
  {
   "cell_type": "code",
   "execution_count": 11,
   "id": "6eaebc65-d4e8-4375-a801-fc0f473a99e0",
   "metadata": {},
   "outputs": [],
   "source": [
    "def gradient(theta, X, y): # gredient = 1/n * X.T(X*theta - y)\n",
    "    n = len(y) # 因为有 n 个数据点\n",
    "    residuals = X @ theta - y\n",
    "    grad = (1/n) * (X.T @ residuals)\n",
    "    return grad\n"
   ]
  },
  {
   "cell_type": "markdown",
   "id": "953b8dd6-200f-43d6-b357-bbdceaee9309",
   "metadata": {},
   "source": [
    "## Gradient Descent\n",
    "A popular optimization method to find a good estimate of the parameter $\\theta^\\star$ is the gradient descent. The overall idea is to start from some initial guess $\\theta_0$, compute the gradient of the loss $\\nabla \\mathcal{L}$ at $w_0$ and update the parameter in the opposite direction\n",
    "$$\n",
    "\\theta_1 = \\theta_0 - \\gamma \\nabla\\mathcal{L}(\\theta_0) \\enspace,\n",
    "$$\n",
    "where $\\gamma > 0$ is an hyperparameter called step size. Then, the updating process is repeated for a set amount of iterations.\n"
   ]
  },
  {
   "cell_type": "markdown",
   "id": "a7c1c658-416e-4e1d-8ca7-d30a953d58fe",
   "metadata": {},
   "source": [
    "### Question 3.\n",
    "The gradient descent procedure is partially defined in the function `gradient_descent(theta0, X, y, step_size=1e-2, n_iter=100)` below. Complete it and test your `gradient` implementation with it."
   ]
  },
  {
   "cell_type": "code",
   "execution_count": 12,
   "id": "a2115077-6d32-46ec-b0cb-e1f290fac915",
   "metadata": {},
   "outputs": [],
   "source": [
    "def gradient_descent(theta0, step_size=1e-2, n_iter=1000): # step size 就是 lamda\n",
    "    theta = theta0.copy()\n",
    "    loss_evolution = []\n",
    "    for _ in range(n_iter): # 进行1000 次 iteration (在 loop 结束后 loss_evolution 中有1000个根据不同 theta 计算的 avg_loss)\n",
    "        grad = gradient(theta, X, y) # 求出当前 theta 的 gradient\n",
    "        theta = theta - step_size*grad # 更新 theta, 由于先进行右面运算，所以行实现计算更新即可\n",
    "\n",
    "        # update loss_evolution (直接把新的 loss append 到空 lst 中即可)\n",
    "        avg_loss = objective(theta, X, y)\n",
    "        loss_evolution.append(avg_loss)\n",
    "\n",
    "    return theta, loss_evolution"
   ]
  },
  {
   "cell_type": "markdown",
   "id": "2116d7df-b796-4edc-a046-955658f49c99",
   "metadata": {},
   "source": [
    "The following script runs the gradient descent procedure and plot the decision boundary."
   ]
  },
  {
   "cell_type": "code",
   "execution_count": null,
   "id": "f5225b20-5bd3-482e-bd82-9740306b0d6c",
   "metadata": {},
   "outputs": [
    {
     "name": "stdout",
     "output_type": "stream",
     "text": [
      "Relative distance from the true parameter: 0.64%\n"
     ]
    },
    {
     "data": {
      "image/png": "[encoded data removed]",
      "text/plain": [
       "<Figure size 500x500 with 1 Axes>"
      ]
     },
     "metadata": {},
     "output_type": "display_data"
    }
   ],
   "source": [
    "theta0 = np.random.rand(d)\n",
    "est_theta, loss_values = gradient_descent(theta0)\n",
    "\n",
    "fig, ax = plt.subplots(1, 1, figsize=(5, 5), layout='tight')\n",
    "\n",
    "# Loss\n",
    "ax.plot(loss_values, linewidth=3, color='b', marker='o',\n",
    "            markevery=100, label='MSE')\n",
    "ax.set_xlabel('Iterations')\n",
    "ax.legend()\n",
    "ax.set_title('Gradient Descent');\n",
    "\n",
    "print(f\"Relative distance from the true parameter: {np.linalg.norm(est_theta - true_parameter) / np.linalg.norm(true_parameter):.2%}\")\n",
    "\n",
    "# 结果说名，gradient descent 算法成功收敛，随iteration avg loss 快速下降到逐渐平稳收敛至 0，图像代表了 mean square error 随 iteration 的变化"
   ]
  }
 ],
 "metadata": {
  "kernelspec": {
   "display_name": ".venv",
   "language": "python",
   "name": "python3"
  },
  "language_info": {
   "codemirror_mode": {
    "name": "ipython",
    "version": 3
   },
   "file_extension": ".py",
   "mimetype": "text/x-python",
   "name": "python",
   "nbconvert_exporter": "python",
   "pygments_lexer": "ipython3",
   "version": "3.11.9"
  }
 },
 "nbformat": 4,
 "nbformat_minor": 5
}
