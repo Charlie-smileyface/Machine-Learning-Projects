{
 "cells": [
  {
   "cell_type": "markdown",
   "metadata": {
    "id": "CrcWUotASPjV"
   },
   "source": [
    "# Reinforcement Learning\n",
    "\n",
    "# Q-Learning\n",
    "\n",
    "This notebook presents Q-learning.\n",
    "\n",
    "Credits: Thomas Bonald"
   ]
  },
  {
   "cell_type": "code",
   "execution_count": 1,
   "metadata": {
    "executionInfo": {
     "elapsed": 8,
     "status": "ok",
     "timestamp": 1681716398125,
     "user": {
      "displayName": "Pascal Bianchi",
      "userId": "14431080439002320783"
     },
     "user_tz": -120
    },
    "id": "h8Lyop7ySPjZ"
   },
   "outputs": [],
   "source": [
    "import numpy as np\n",
    "from matplotlib import pyplot as plt"
   ]
  },
  {
   "cell_type": "code",
   "execution_count": 2,
   "metadata": {
    "executionInfo": {
     "elapsed": 1658,
     "status": "ok",
     "timestamp": 1681716419969,
     "user": {
      "displayName": "Pascal Bianchi",
      "userId": "14431080439002320783"
     },
     "user_tz": -120
    },
    "id": "zk8CdmfKSPjb"
   },
   "outputs": [],
   "source": [
    "from model import Walk, Maze, TicTacToe, Nim, ConnectFour\n",
    "from agent import Agent, OnlineControl"
   ]
  },
  {
   "cell_type": "markdown",
   "metadata": {
    "id": "xqrhtfGFSUm9"
   },
   "source": [
    "## Handling (state,action) value functions\n",
    "We first make some basic experiments using the maze environment"
   ]
  },
  {
   "cell_type": "code",
   "execution_count": 5,
   "metadata": {},
   "outputs": [],
   "source": [
    "maze = Maze()\n",
    "# set parameters\n",
    "maze_map = np.load('maze_small.npy')\n",
    "maze.set_parameters(maze_map, (1, 0), [(3, 8)])\n",
    "# init\n",
    "maze = Maze()"
   ]
  },
  {
   "cell_type": "code",
   "execution_count": 6,
   "metadata": {},
   "outputs": [
    {
     "data": {
      "image/png": "[encoded data removed]",
      "text/plain": [
       "<Figure size 640x480 with 1 Axes>"
      ]
     },
     "metadata": {},
     "output_type": "display_data"
    }
   ],
   "source": [
    "maze.display()"
   ]
  },
  {
   "cell_type": "code",
   "execution_count": 7,
   "metadata": {},
   "outputs": [],
   "source": [
    "# Check the OnlineControl class in agent.py\n",
    "control = OnlineControl(maze)"
   ]
  },
  {
   "cell_type": "code",
   "execution_count": 9,
   "metadata": {},
   "outputs": [],
   "source": [
    "# Generate a idle (randomly chosen) (state,action) value function\n",
    "for state in maze.get_states():\n",
    "  for action in maze.get_actions(state):\n",
    "    control.state_action_value[maze.encode(state)][action] = np.random.uniform(0,1)"
   ]
  },
  {
   "cell_type": "code",
   "execution_count": 12,
   "metadata": {
    "colab": {
     "base_uri": "https://localhost:8080/"
    },
    "executionInfo": {
     "elapsed": 520,
     "status": "ok",
     "timestamp": 1681716959500,
     "user": {
      "displayName": "Pascal Bianchi",
      "userId": "14431080439002320783"
     },
     "user_tz": -120
    },
    "id": "9KziYwUfMtL2",
    "outputId": "f2e2664a-3865-4a34-aedf-3ae4a5282988"
   },
   "outputs": [
    {
     "data": {
      "text/plain": [
       "defaultdict(int, {(0, 1): 0.34936827605749377, (0, -1): 0.12510360014469024})"
      ]
     },
     "execution_count": 12,
     "metadata": {},
     "output_type": "execute_result"
    }
   ],
   "source": [
    "# For a given state, display the values of the actions : what is the corresponding best action?\n",
    "state = maze.get_states()[2]\n",
    "control.state_action_value[maze.encode(state)]"
   ]
  },
  {
   "cell_type": "code",
   "execution_count": 13,
   "metadata": {
    "colab": {
     "base_uri": "https://localhost:8080/"
    },
    "executionInfo": {
     "elapsed": 312,
     "status": "ok",
     "timestamp": 1681717064046,
     "user": {
      "displayName": "Pascal Bianchi",
      "userId": "14431080439002320783"
     },
     "user_tz": -120
    },
    "id": "F1GHCY1rQvUE",
    "outputId": "bf9ebbdb-3f11-49f3-b43b-6b907c8ed8e4"
   },
   "outputs": [
    {
     "data": {
      "text/plain": [
       "(0, 1)"
      ]
     },
     "execution_count": 13,
     "metadata": {},
     "output_type": "execute_result"
    }
   ],
   "source": [
    "# For the same state, compute the best action using get_best_action\n",
    "control.get_best_action(state)"
   ]
  },
  {
   "cell_type": "code",
   "execution_count": 14,
   "metadata": {
    "colab": {
     "base_uri": "https://localhost:8080/"
    },
    "executionInfo": {
     "elapsed": 4,
     "status": "ok",
     "timestamp": 1681717111006,
     "user": {
      "displayName": "Pascal Bianchi",
      "userId": "14431080439002320783"
     },
     "user_tz": -120
    },
    "id": "yigaUiiyEt8P",
    "outputId": "3d62a672-ef89-4789-eeb9-f7db1347f5ba"
   },
   "outputs": [
    {
     "data": {
      "text/plain": [
       "(0, 1)"
      ]
     },
     "execution_count": 14,
     "metadata": {},
     "output_type": "execute_result"
    }
   ],
   "source": [
    "# For the same state, compute the epsilon greedy best action\n",
    "control.eps = 0.1\n",
    "control.get_best_action_randomized(state)\n",
    "# Discuss the impact of epsilon"
   ]
  },
  {
   "cell_type": "markdown",
   "metadata": {
    "id": "l8IuihuHSPjc"
   },
   "source": [
    "## Q-learning"
   ]
  },
  {
   "cell_type": "code",
   "execution_count": 1,
   "metadata": {
    "executionInfo": {
     "elapsed": 372,
     "status": "ok",
     "timestamp": 1681718966992,
     "user": {
      "displayName": "Pascal Bianchi",
      "userId": "14431080439002320783"
     },
     "user_tz": -120
    },
    "id": "_eu1fCH1SPjd"
   },
   "outputs": [
    {
     "ename": "NameError",
     "evalue": "name 'OnlineControl' is not defined",
     "output_type": "error",
     "traceback": [
      "\u001b[31m---------------------------------------------------------------------------\u001b[39m",
      "\u001b[31mNameError\u001b[39m                                 Traceback (most recent call last)",
      "\u001b[36mCell\u001b[39m\u001b[36m \u001b[39m\u001b[32mIn[1]\u001b[39m\u001b[32m, line 1\u001b[39m\n\u001b[32m----> \u001b[39m\u001b[32m1\u001b[39m \u001b[38;5;28;01mclass\u001b[39;00m\u001b[38;5;250m \u001b[39m\u001b[34;01mQLearning\u001b[39;00m(\u001b[43mOnlineControl\u001b[49m):\n\u001b[32m      2\u001b[39m \u001b[38;5;250m    \u001b[39m\u001b[33;03m\"\"\"Online control by Q-learning.\"\"\"\u001b[39;00m\n\u001b[32m      4\u001b[39m     \u001b[38;5;28;01mdef\u001b[39;00m\u001b[38;5;250m \u001b[39m\u001b[34mupdate_values\u001b[39m(\u001b[38;5;28mself\u001b[39m):\n",
      "\u001b[31mNameError\u001b[39m: name 'OnlineControl' is not defined"
     ]
    }
   ],
   "source": [
    "class QLearning(OnlineControl):\n",
    "    \"\"\"Online control by Q-learning.\"\"\"\n",
    "        \n",
    "    def update_values(self):\n",
    "        \"\"\"Learn the state-action value online.\"\"\"\n",
    "        # 1. reinit the state\n",
    "        self.environment.reinit_state()\n",
    "        state = self.environment.state\n",
    "        # 2. choose one random action\n",
    "        action = self.get_best_action_randomized(state)\n",
    "        # 3. save the sate and action\n",
    "        self.add_state_action(state, action)\n",
    "        \n",
    "        # 一步一步的处理来更新Q\n",
    "        for t in range(self.n_steps):\n",
    "            state_code = self.environment.encode(state)\n",
    "            self.state_action_count[state_code][action] += 1\n",
    "            reward, stop = self.environment.step(action)\n",
    "            if stop:\n",
    "                gain = reward\n",
    "            else:\n",
    "                # 4. Q-learning function\n",
    "                new_state = self.environment.state\n",
    "                new_action = self.get_best_action_randomized(new_state)\n",
    "                self.add_state_action(new_state, new_action)\n",
    "                new_state_code = self.environment.encode(new_state)\n",
    "                # Q(s_t+1, a_t)\n",
    "                best_action = self.get_best_action(new_state)\n",
    "                # r_t+1 + gamma * max_a Q(s_t+1, a)\n",
    "                gain = reward + self.gamma * self.state_action_value[new_state_code][best_action]\n",
    "\n",
    "            # 5. update the Q(s_t, a_t)\n",
    "            # diff = gain - Q(s_t, a_t) \n",
    "            diff = gain - self.state_action_value[state_code][action]\n",
    "            self.state_action_value[state_code][action] += diff / self.state_action_count[state_code][action]\n",
    "            if stop:\n",
    "                break\n",
    "            state = self.environment.state\n",
    "            action = new_action"
   ]
  },
  {
   "cell_type": "markdown",
   "metadata": {
    "id": "-lZG1LE0SPji"
   },
   "source": [
    "## Maze"
   ]
  },
  {
   "cell_type": "code",
   "execution_count": 16,
   "metadata": {
    "colab": {
     "base_uri": "https://localhost:8080/",
     "height": 248
    },
    "executionInfo": {
     "elapsed": 787,
     "status": "ok",
     "timestamp": 1677577512326,
     "user": {
      "displayName": "Pascal Bianchi",
      "userId": "14431080439002320783"
     },
     "user_tz": -60
    },
    "id": "oYredZrhSPji",
    "outputId": "4b64e145-7a91-4674-861b-264451de4bc4"
   },
   "outputs": [],
   "source": [
    "maze = Maze()\n",
    "# set parameters\n",
    "maze_map = np.load('maze_small.npy')\n",
    "maze.set_parameters(maze_map, (1, 0), [(3, 8)])\n",
    "# init\n",
    "maze = Maze()"
   ]
  },
  {
   "cell_type": "code",
   "execution_count": 17,
   "metadata": {
    "executionInfo": {
     "elapsed": 273,
     "status": "ok",
     "timestamp": 1681719126244,
     "user": {
      "displayName": "Pascal Bianchi",
      "userId": "14431080439002320783"
     },
     "user_tz": -120
    },
    "id": "G9NnWbLjSPjj"
   },
   "outputs": [],
   "source": [
    "algo = QLearning(maze, eps=0.1, n_steps=1000)"
   ]
  },
  {
   "cell_type": "code",
   "execution_count": 19,
   "metadata": {
    "executionInfo": {
     "elapsed": 995,
     "status": "ok",
     "timestamp": 1681719132330,
     "user": {
      "displayName": "Pascal Bianchi",
      "userId": "14431080439002320783"
     },
     "user_tz": -120
    },
    "id": "KqYewDMvSPjj"
   },
   "outputs": [],
   "source": [
    "n_episodes = 1000\n",
    "for t in range(n_episodes):\n",
    "    algo.update_values()"
   ]
  },
  {
   "cell_type": "code",
   "execution_count": 20,
   "metadata": {
    "colab": {
     "base_uri": "https://localhost:8080/",
     "height": 406
    },
    "executionInfo": {
     "elapsed": 268,
     "status": "ok",
     "timestamp": 1681719140441,
     "user": {
      "displayName": "Pascal Bianchi",
      "userId": "14431080439002320783"
     },
     "user_tz": -120
    },
    "id": "pZ-PwvmGSPjj",
    "outputId": "b8f0b8be-2b2b-4870-c856-08b162416d4b"
   },
   "outputs": [
    {
     "data": {
      "image/png": "[encoded data removed]",
      "text/plain": [
       "<Figure size 640x480 with 1 Axes>"
      ]
     },
     "metadata": {},
     "output_type": "display_data"
    }
   ],
   "source": [
    "policy = algo.get_policy()\n",
    "maze.display_policy(policy)"
   ]
  },
  {
   "cell_type": "markdown",
   "metadata": {
    "id": "xdC0uhHvSPjj"
   },
   "source": [
    "## Tic-Tac-Toe"
   ]
  },
  {
   "cell_type": "code",
   "execution_count": 21,
   "metadata": {
    "executionInfo": {
     "elapsed": 268,
     "status": "ok",
     "timestamp": 1681719198173,
     "user": {
      "displayName": "Pascal Bianchi",
      "userId": "14431080439002320783"
     },
     "user_tz": -120
    },
    "id": "Y703Td3cSPjk"
   },
   "outputs": [],
   "source": [
    "game = TicTacToe()\n",
    "agent = Agent(game)"
   ]
  },
  {
   "cell_type": "code",
   "execution_count": 54,
   "metadata": {
    "colab": {
     "base_uri": "https://localhost:8080/"
    },
    "executionInfo": {
     "elapsed": 283,
     "status": "ok",
     "timestamp": 1681719390747,
     "user": {
      "displayName": "Pascal Bianchi",
      "userId": "14431080439002320783"
     },
     "user_tz": -120
    },
    "id": "voNvgX2dR7jj",
    "outputId": "c0bb245c-faab-47a0-cf0d-2668939fb593"
   },
   "outputs": [
    {
     "data": {
      "text/plain": [
       "array([-1, -1, -1,  0,  1,  1,  1,  1,  1,  0, -1, -1,  1,  1,  1,  1,  1,\n",
       "        1, -1,  1,  1, -1,  1,  1,  1,  0,  1, -1,  1,  1,  1,  1,  1, -1,\n",
       "       -1,  1,  1,  0,  1,  0,  1,  1,  0,  1,  1,  1,  1, -1,  1,  0, -1,\n",
       "       -1, -1,  1,  1,  1, -1,  1,  0,  0,  1,  0, -1, -1,  0,  1, -1,  1,\n",
       "        0,  1,  1, -1, -1,  0,  1,  1,  0,  0,  0,  1, -1, -1,  0,  1,  1,\n",
       "       -1,  1,  1,  1,  1, -1,  1,  0,  0,  0,  1, -1, -1,  1, -1])"
      ]
     },
     "execution_count": 54,
     "metadata": {},
     "output_type": "execute_result"
    }
   ],
   "source": [
    "agent.get_gains()"
   ]
  },
  {
   "cell_type": "code",
   "execution_count": 55,
   "metadata": {
    "colab": {
     "base_uri": "https://localhost:8080/"
    },
    "executionInfo": {
     "elapsed": 618,
     "status": "ok",
     "timestamp": 1681719393805,
     "user": {
      "displayName": "Pascal Bianchi",
      "userId": "14431080439002320783"
     },
     "user_tz": -120
    },
    "id": "zHDO_SPPSPjk",
    "outputId": "b361d679-665a-42eb-d6a2-f629bd6d7bcb"
   },
   "outputs": [
    {
     "data": {
      "text/plain": [
       "(array([-1,  0,  1]), array([27,  5, 68]))"
      ]
     },
     "execution_count": 55,
     "metadata": {},
     "output_type": "execute_result"
    }
   ],
   "source": [
    "np.unique(agent.get_gains(), return_counts=True)"
   ]
  },
  {
   "cell_type": "code",
   "execution_count": 22,
   "metadata": {
    "executionInfo": {
     "elapsed": 231,
     "status": "ok",
     "timestamp": 1681719424915,
     "user": {
      "displayName": "Pascal Bianchi",
      "userId": "14431080439002320783"
     },
     "user_tz": -120
    },
    "id": "TJxQVFfUSPjk"
   },
   "outputs": [],
   "source": [
    "algo = QLearning(game, eps=0.5)"
   ]
  },
  {
   "cell_type": "code",
   "execution_count": 23,
   "metadata": {
    "executionInfo": {
     "elapsed": 2234,
     "status": "ok",
     "timestamp": 1681719448336,
     "user": {
      "displayName": "Pascal Bianchi",
      "userId": "14431080439002320783"
     },
     "user_tz": -120
    },
    "id": "rbeMbB-_SPjk"
   },
   "outputs": [],
   "source": [
    "n_games = 1000\n",
    "for i in range(n_games):\n",
    "    algo.update_values()"
   ]
  },
  {
   "cell_type": "code",
   "execution_count": 24,
   "metadata": {
    "executionInfo": {
     "elapsed": 798,
     "status": "ok",
     "timestamp": 1681719457827,
     "user": {
      "displayName": "Pascal Bianchi",
      "userId": "14431080439002320783"
     },
     "user_tz": -120
    },
    "id": "DE7Q_LcgSPjl"
   },
   "outputs": [],
   "source": [
    "policy = algo.get_policy()"
   ]
  },
  {
   "cell_type": "code",
   "execution_count": 25,
   "metadata": {
    "executionInfo": {
     "elapsed": 330,
     "status": "ok",
     "timestamp": 1681719470548,
     "user": {
      "displayName": "Pascal Bianchi",
      "userId": "14431080439002320783"
     },
     "user_tz": -120
    },
    "id": "VaM423upSPjl"
   },
   "outputs": [],
   "source": [
    "agent = Agent(game, policy)"
   ]
  },
  {
   "cell_type": "code",
   "execution_count": 26,
   "metadata": {
    "colab": {
     "base_uri": "https://localhost:8080/"
    },
    "executionInfo": {
     "elapsed": 357,
     "status": "ok",
     "timestamp": 1681719472549,
     "user": {
      "displayName": "Pascal Bianchi",
      "userId": "14431080439002320783"
     },
     "user_tz": -120
    },
    "id": "gf-_SgBHSPjl",
    "outputId": "cf7c7981-2150-49af-f365-e61c27af3662"
   },
   "outputs": [
    {
     "data": {
      "text/plain": [
       "(array([-1,  0,  1]), array([ 5,  7, 88]))"
      ]
     },
     "execution_count": 26,
     "metadata": {},
     "output_type": "execute_result"
    }
   ],
   "source": [
    "np.unique(agent.get_gains(), return_counts=True)"
   ]
  },
  {
   "cell_type": "code",
   "execution_count": 27,
   "metadata": {
    "id": "LDsVARU3VNeq"
   },
   "outputs": [],
   "source": [
    "# Play against the one-step best policy defined in the first lab. Who's winning?\n"
   ]
  },
  {
   "cell_type": "markdown",
   "metadata": {
    "id": "tZD-rlTMSPjl"
   },
   "source": [
    "## Perfect adversary\n",
    "\n",
    "Let's get a perfect adversary by Value Iteration."
   ]
  },
  {
   "cell_type": "code",
   "execution_count": 28,
   "metadata": {
    "id": "kk55iSHXSPjl"
   },
   "outputs": [],
   "source": [
    "from scipy import sparse\n",
    "from dp import PolicyEvaluation"
   ]
  },
  {
   "cell_type": "code",
   "execution_count": 29,
   "metadata": {
    "id": "E8O4PFMkSPjm"
   },
   "outputs": [],
   "source": [
    "def dot_max(matrix: sparse.csr_matrix, vector: np.ndarray):\n",
    "    \"\"\"Get the dot_max product of a matrix by a vector, replacing the sum by the max.\"\"\"\n",
    "    return np.maximum.reduceat(vector[matrix.indices] * matrix.data, matrix.indptr[:-1])"
   ]
  },
  {
   "cell_type": "code",
   "execution_count": 30,
   "metadata": {
    "id": "FUQAGR45SPjm"
   },
   "outputs": [],
   "source": [
    "class ValueIteration(PolicyEvaluation):\n",
    "    \"\"\"Value iteration.\n",
    "    \n",
    "    Parameters\n",
    "    ----------\n",
    "    environment: \n",
    "        The environment.\n",
    "    player: \n",
    "        Player for games (1 or -1, default = 1).\n",
    "    gamma:\n",
    "        Discount factor (between 0 and 1).\n",
    "    n_iter:\n",
    "        Number of value iterations.\n",
    "    tol:\n",
    "        Tolerance = maximum difference between two iterations for early stopping.\n",
    "    \"\"\"\n",
    "    \n",
    "    def __init__(self, environment, player=1, gamma=1, n_iter=100, tol=0, verbose=True):\n",
    "        agent = Agent(environment, player=player)\n",
    "        policy = agent.policy\n",
    "        super(ValueIteration, self).__init__(environment, policy, player, gamma)  \n",
    "        self.n_iter = n_iter\n",
    "        self.tol = tol\n",
    "        self.verbose = verbose\n",
    "        \n",
    "   \n",
    "    def get_optimal_policy(self):\n",
    "        \"\"\"Get the optimal policy by iteration of Bellman's optimality equation.\"\"\"\n",
    "        if hasattr(self.environment, 'player'):\n",
    "            return self.get_optimal_policy_game()\n",
    "        self.values = np.zeros(self.n_states)\n",
    "        moves = self.get_transitions().astype(bool)\n",
    "        for t in range(self.n_iter):\n",
    "            values = self.values.copy()\n",
    "            values_next = self.rewards + self.gamma * self.values\n",
    "            values[self.non_terminal] = dot_max(moves[self.non_terminal], values_next)\n",
    "            diff = np.max(np.abs(values - self.values))\n",
    "            self.values = values\n",
    "            if diff <= self.tol:\n",
    "                if self.verbose:\n",
    "                    print(f\"Convergence after {t+1} iterations.\")\n",
    "                break\n",
    "        policy = self.get_policy()\n",
    "        return policy\n",
    "    \n",
    "    def get_optimal_policy_game(self):\n",
    "        \"\"\"Get the optimal policy for games, assuming the best response of the adversary.\"\"\"\n",
    "        self.values = np.zeros(self.n_states)\n",
    "        moves = self.get_transitions().astype(bool)\n",
    "        player = np.array([state[0] == self.player for state in self.states]) & self.non_terminal\n",
    "        adversary = np.array([state[0] == -self.player for state in self.states]) & self.non_terminal\n",
    "        for t in range(self.n_iter):\n",
    "            values = self.values.copy()\n",
    "            values_next = self.rewards + self.gamma * self.values\n",
    "            values[player] = self.player * dot_max(moves[player], self.player * values_next)\n",
    "            values[adversary] = -self.player * dot_max(moves[adversary], -self.player * values_next)\n",
    "            diff = np.max(np.abs(values - self.values))\n",
    "            self.values = values\n",
    "            if diff <= self.tol:\n",
    "                if self.verbose:\n",
    "                    print(f\"Convergence after {t+1} iterations.\")\n",
    "                break\n",
    "        policy = self.get_policy()\n",
    "        return policy"
   ]
  },
  {
   "cell_type": "code",
   "execution_count": 31,
   "metadata": {
    "colab": {
     "base_uri": "https://localhost:8080/"
    },
    "executionInfo": {
     "elapsed": 20975,
     "status": "ok",
     "timestamp": 1677577537650,
     "user": {
      "displayName": "Pascal Bianchi",
      "userId": "14431080439002320783"
     },
     "user_tz": -60
    },
    "id": "tDr5ckQrSPjn",
    "outputId": "fc40b036-6c06-4cff-b96e-fb196d96b5af"
   },
   "outputs": [
    {
     "name": "stdout",
     "output_type": "stream",
     "text": [
      "Convergence after 6 iterations.\n"
     ]
    }
   ],
   "source": [
    "# get a perfect adversary\n",
    "game = TicTacToe(play_first=False, player=-1)\n",
    "algo = ValueIteration(game, player=-1, n_iter=10)\n",
    "adversary_policy = algo.get_optimal_policy()"
   ]
  },
  {
   "cell_type": "code",
   "execution_count": 32,
   "metadata": {
    "id": "YQC5gAUhSPjn"
   },
   "outputs": [],
   "source": [
    "# train against this player\n",
    "game = TicTacToe(adversary_policy)\n",
    "agent = Agent(game)"
   ]
  },
  {
   "cell_type": "code",
   "execution_count": 33,
   "metadata": {
    "colab": {
     "base_uri": "https://localhost:8080/"
    },
    "executionInfo": {
     "elapsed": 10,
     "status": "ok",
     "timestamp": 1677577537651,
     "user": {
      "displayName": "Pascal Bianchi",
      "userId": "14431080439002320783"
     },
     "user_tz": -60
    },
    "id": "OgN-QOWpSPjn",
    "outputId": "573dabdb-fb9d-4f22-fe52-1490379c49a5"
   },
   "outputs": [
    {
     "data": {
      "text/plain": [
       "(array([-1,  0]), array([70, 30]))"
      ]
     },
     "execution_count": 33,
     "metadata": {},
     "output_type": "execute_result"
    }
   ],
   "source": [
    "# before training\n",
    "np.unique(agent.get_gains(), return_counts=True)"
   ]
  },
  {
   "cell_type": "code",
   "execution_count": 34,
   "metadata": {
    "id": "J8dxM8pJSPjn"
   },
   "outputs": [],
   "source": [
    "algo = QLearning(game, eps=0.5)"
   ]
  },
  {
   "cell_type": "code",
   "execution_count": 35,
   "metadata": {
    "id": "QssQZ5OASPjo"
   },
   "outputs": [],
   "source": [
    "# training \n",
    "n_games = 10000\n",
    "for i in range(n_games):\n",
    "    algo.update_values()"
   ]
  },
  {
   "cell_type": "code",
   "execution_count": 36,
   "metadata": {
    "id": "2BtPqh6dSPjo"
   },
   "outputs": [],
   "source": [
    "policy = algo.get_policy()\n",
    "agent = Agent(game, policy)"
   ]
  },
  {
   "cell_type": "code",
   "execution_count": 37,
   "metadata": {
    "colab": {
     "base_uri": "https://localhost:8080/"
    },
    "executionInfo": {
     "elapsed": 40,
     "status": "ok",
     "timestamp": 1677577565182,
     "user": {
      "displayName": "Pascal Bianchi",
      "userId": "14431080439002320783"
     },
     "user_tz": -60
    },
    "id": "B8hswnwsSPjo",
    "outputId": "3c9ea509-e7a5-4c50-dc63-419b9aa8cfe8"
   },
   "outputs": [
    {
     "data": {
      "text/plain": [
       "(array([0]), array([100]))"
      ]
     },
     "execution_count": 37,
     "metadata": {},
     "output_type": "execute_result"
    }
   ],
   "source": [
    "np.unique(agent.get_gains(), return_counts=True)"
   ]
  },
  {
   "cell_type": "markdown",
   "metadata": {
    "id": "AIPaGmTWSPjo"
   },
   "source": [
    "## Nim"
   ]
  },
  {
   "cell_type": "code",
   "execution_count": null,
   "metadata": {
    "id": "nLysj944SPjp"
   },
   "outputs": [],
   "source": [
    "game = Nim()\n",
    "agent = Agent(game)"
   ]
  },
  {
   "cell_type": "code",
   "execution_count": null,
   "metadata": {
    "colab": {
     "base_uri": "https://localhost:8080/"
    },
    "executionInfo": {
     "elapsed": 38,
     "status": "ok",
     "timestamp": 1677577565183,
     "user": {
      "displayName": "Pascal Bianchi",
      "userId": "14431080439002320783"
     },
     "user_tz": -60
    },
    "id": "irI6dbOZSPjp",
    "outputId": "575e6fbe-9df5-410a-88a6-acb5adeec148"
   },
   "outputs": [
    {
     "data": {
      "text/plain": [
       "(array([-1,  1]), array([50, 50]))"
      ]
     },
     "execution_count": 41,
     "metadata": {},
     "output_type": "execute_result"
    }
   ],
   "source": [
    "np.unique(agent.get_gains(), return_counts=True)"
   ]
  },
  {
   "cell_type": "code",
   "execution_count": null,
   "metadata": {
    "id": "BbnnqLA0SPjp"
   },
   "outputs": [],
   "source": [
    "algo = QLearning(game, eps=0.5)"
   ]
  },
  {
   "cell_type": "code",
   "execution_count": null,
   "metadata": {
    "id": "PgjZ7LYSSPjq"
   },
   "outputs": [],
   "source": [
    "n_games = 1000\n",
    "for i in range(n_games):\n",
    "    algo.update_values()"
   ]
  },
  {
   "cell_type": "code",
   "execution_count": null,
   "metadata": {
    "id": "u-0ggL33SPjq"
   },
   "outputs": [],
   "source": [
    "policy = algo.get_policy()\n",
    "agent = Agent(game, policy)"
   ]
  },
  {
   "cell_type": "code",
   "execution_count": null,
   "metadata": {
    "colab": {
     "base_uri": "https://localhost:8080/"
    },
    "executionInfo": {
     "elapsed": 215,
     "status": "ok",
     "timestamp": 1677577567501,
     "user": {
      "displayName": "Pascal Bianchi",
      "userId": "14431080439002320783"
     },
     "user_tz": -60
    },
    "id": "tenje0gVSPjq",
    "outputId": "f587118f-9a2c-4f29-e96e-99243c8af699"
   },
   "outputs": [
    {
     "data": {
      "text/plain": [
       "(array([-1,  1]), array([ 7, 93]))"
      ]
     },
     "execution_count": 45,
     "metadata": {},
     "output_type": "execute_result"
    }
   ],
   "source": [
    "np.unique(agent.get_gains(), return_counts=True)"
   ]
  },
  {
   "cell_type": "markdown",
   "metadata": {
    "id": "SYUpYUZlSPjr"
   },
   "source": [
    "## Connect Four"
   ]
  },
  {
   "cell_type": "code",
   "execution_count": null,
   "metadata": {
    "id": "-XfMl5PeSPjr"
   },
   "outputs": [],
   "source": [
    "game = ConnectFour()\n",
    "agent = Agent(game)"
   ]
  },
  {
   "cell_type": "code",
   "execution_count": null,
   "metadata": {
    "colab": {
     "base_uri": "https://localhost:8080/"
    },
    "executionInfo": {
     "elapsed": 5149,
     "status": "ok",
     "timestamp": 1677577572646,
     "user": {
      "displayName": "Pascal Bianchi",
      "userId": "14431080439002320783"
     },
     "user_tz": -60
    },
    "id": "8G8Xly-ESPjs",
    "outputId": "2fe6759d-1a26-4421-9762-e686220d5653"
   },
   "outputs": [
    {
     "data": {
      "text/plain": [
       "(array([-1,  1]), array([45, 55]))"
      ]
     },
     "execution_count": 47,
     "metadata": {},
     "output_type": "execute_result"
    }
   ],
   "source": [
    "np.unique(agent.get_gains(), return_counts=True)"
   ]
  },
  {
   "cell_type": "code",
   "execution_count": null,
   "metadata": {
    "id": "EfhLR79wSPjs"
   },
   "outputs": [],
   "source": [
    "algo = QLearning(game, eps=0.5)"
   ]
  },
  {
   "cell_type": "code",
   "execution_count": null,
   "metadata": {
    "id": "FDbnTeiDSPjs"
   },
   "outputs": [],
   "source": [
    "n_games = 100\n",
    "for i in range(n_games):\n",
    "    algo.update_values()"
   ]
  },
  {
   "cell_type": "code",
   "execution_count": null,
   "metadata": {
    "id": "I_PT1lklSPjt"
   },
   "outputs": [],
   "source": [
    "policy = algo.get_policy()\n",
    "agent = Agent(game, policy)"
   ]
  },
  {
   "cell_type": "code",
   "execution_count": null,
   "metadata": {
    "colab": {
     "base_uri": "https://localhost:8080/"
    },
    "executionInfo": {
     "elapsed": 6020,
     "status": "ok",
     "timestamp": 1677577587137,
     "user": {
      "displayName": "Pascal Bianchi",
      "userId": "14431080439002320783"
     },
     "user_tz": -60
    },
    "id": "1DLXfMVmSPjt",
    "outputId": "6b72771c-2e0e-41c1-8c16-2c01c81b0ffc"
   },
   "outputs": [
    {
     "data": {
      "text/plain": [
       "(array([-1,  1]), array([51, 49]))"
      ]
     },
     "execution_count": 51,
     "metadata": {},
     "output_type": "execute_result"
    }
   ],
   "source": [
    "# no gain... can you guess why?\n",
    "np.unique(agent.get_gains(), return_counts=True)"
   ]
  },
  {
   "cell_type": "code",
   "execution_count": null,
   "metadata": {
    "id": "QC4uKQHYUg44"
   },
   "outputs": [],
   "source": [
    "# Fix the issue (if any) and play against the one-step best policy defined in the first lab. Who's winning?"
   ]
  }
 ],
 "metadata": {
  "colab": {
   "provenance": []
  },
  "kernelspec": {
   "display_name": ".venv",
   "language": "python",
   "name": "python3"
  },
  "language_info": {
   "codemirror_mode": {
    "name": "ipython",
    "version": 3
   },
   "file_extension": ".py",
   "mimetype": "text/x-python",
   "name": "python",
   "nbconvert_exporter": "python",
   "pygments_lexer": "ipython3",
   "version": "3.11.9"
  }
 },
 "nbformat": 4,
 "nbformat_minor": 4
}
